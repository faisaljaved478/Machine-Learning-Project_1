{
 "cells": [
  {
   "cell_type": "markdown",
   "metadata": {},
   "source": [
    "# ANNEX: C\n",
    "# PREDICTION CODE FOR US COVID 19 CASES\n",
    "## SUBMITTED BY: FAISAL JAVED\n",
    "### MACHINE LEARNING PROJECT (MS RIME 2020)"
   ]
  },
  {
   "cell_type": "code",
   "execution_count": 1,
   "metadata": {},
   "outputs": [],
   "source": [
    "import pandas as pd\n",
    "import numpy as np"
   ]
  },
  {
   "cell_type": "markdown",
   "metadata": {},
   "source": [
    "## DATA SET DETAILS \n",
    "### GATHERING & CLEANING"
   ]
  },
  {
   "cell_type": "code",
   "execution_count": 2,
   "metadata": {},
   "outputs": [
    {
     "data": {
      "text/html": [
       "<div>\n",
       "<style scoped>\n",
       "    .dataframe tbody tr th:only-of-type {\n",
       "        vertical-align: middle;\n",
       "    }\n",
       "\n",
       "    .dataframe tbody tr th {\n",
       "        vertical-align: top;\n",
       "    }\n",
       "\n",
       "    .dataframe thead th {\n",
       "        text-align: right;\n",
       "    }\n",
       "</style>\n",
       "<table border=\"1\" class=\"dataframe\">\n",
       "  <thead>\n",
       "    <tr style=\"text-align: right;\">\n",
       "      <th></th>\n",
       "      <th>Date</th>\n",
       "      <th>Xo</th>\n",
       "      <th>Date_Code</th>\n",
       "      <th>States_Code</th>\n",
       "      <th>Temperatures</th>\n",
       "      <th>Humidity</th>\n",
       "      <th>LandArea</th>\n",
       "      <th>Population_Density</th>\n",
       "      <th>Cases_per_day</th>\n",
       "    </tr>\n",
       "  </thead>\n",
       "  <tbody>\n",
       "    <tr>\n",
       "      <th>0</th>\n",
       "      <td>2020-12-06</td>\n",
       "      <td>1</td>\n",
       "      <td>0</td>\n",
       "      <td>1</td>\n",
       "      <td>11.6</td>\n",
       "      <td>77.1</td>\n",
       "      <td>570641</td>\n",
       "      <td>1.2863</td>\n",
       "      <td>757</td>\n",
       "    </tr>\n",
       "    <tr>\n",
       "      <th>1</th>\n",
       "      <td>2020-12-06</td>\n",
       "      <td>1</td>\n",
       "      <td>0</td>\n",
       "      <td>2</td>\n",
       "      <td>46.6</td>\n",
       "      <td>71.6</td>\n",
       "      <td>50645</td>\n",
       "      <td>96.9221</td>\n",
       "      <td>2288</td>\n",
       "    </tr>\n",
       "    <tr>\n",
       "      <th>2</th>\n",
       "      <td>2020-12-06</td>\n",
       "      <td>1</td>\n",
       "      <td>0</td>\n",
       "      <td>3</td>\n",
       "      <td>41.3</td>\n",
       "      <td>70.9</td>\n",
       "      <td>52035</td>\n",
       "      <td>58.403</td>\n",
       "      <td>1542</td>\n",
       "    </tr>\n",
       "    <tr>\n",
       "      <th>3</th>\n",
       "      <td>2020-12-06</td>\n",
       "      <td>1</td>\n",
       "      <td>0</td>\n",
       "      <td>4</td>\n",
       "      <td>38.0</td>\n",
       "      <td>80.0</td>\n",
       "      <td>77</td>\n",
       "      <td>716</td>\n",
       "      <td>0</td>\n",
       "    </tr>\n",
       "    <tr>\n",
       "      <th>4</th>\n",
       "      <td>2020-12-06</td>\n",
       "      <td>1</td>\n",
       "      <td>0</td>\n",
       "      <td>5</td>\n",
       "      <td>43.6</td>\n",
       "      <td>38.5</td>\n",
       "      <td>113594</td>\n",
       "      <td>64.9549</td>\n",
       "      <td>5376</td>\n",
       "    </tr>\n",
       "  </tbody>\n",
       "</table>\n",
       "</div>"
      ],
      "text/plain": [
       "        Date  Xo  Date_Code  States_Code  Temperatures  Humidity  LandArea  \\\n",
       "0 2020-12-06   1          0            1          11.6      77.1    570641   \n",
       "1 2020-12-06   1          0            2          46.6      71.6     50645   \n",
       "2 2020-12-06   1          0            3          41.3      70.9     52035   \n",
       "3 2020-12-06   1          0            4          38.0      80.0        77   \n",
       "4 2020-12-06   1          0            5          43.6      38.5    113594   \n",
       "\n",
       "  Population_Density  Cases_per_day  \n",
       "0             1.2863            757  \n",
       "1            96.9221           2288  \n",
       "2             58.403           1542  \n",
       "3                716              0  \n",
       "4            64.9549           5376  "
      ]
     },
     "execution_count": 2,
     "metadata": {},
     "output_type": "execute_result"
    }
   ],
   "source": [
    "Data = pd.read_excel(\"USA Statewise Covid Data.xlsx\")\n",
    "Data.head()"
   ]
  },
  {
   "cell_type": "code",
   "execution_count": 3,
   "metadata": {},
   "outputs": [],
   "source": [
    "Data = Data.sample(frac=1)"
   ]
  },
  {
   "cell_type": "code",
   "execution_count": 4,
   "metadata": {},
   "outputs": [],
   "source": [
    "X = Data.drop(['Date','Cases_per_day','LandArea'],1)"
   ]
  },
  {
   "cell_type": "code",
   "execution_count": 5,
   "metadata": {},
   "outputs": [],
   "source": [
    "Y = Data['Cases_per_day']"
   ]
  },
  {
   "cell_type": "code",
   "execution_count": 6,
   "metadata": {},
   "outputs": [],
   "source": [
    "X['Population_Density']= X['Population_Density'].astype(float)"
   ]
  },
  {
   "cell_type": "markdown",
   "metadata": {},
   "source": [
    "### Defining New Features"
   ]
  },
  {
   "cell_type": "code",
   "execution_count": 7,
   "metadata": {},
   "outputs": [],
   "source": [
    "X['Weather']=X['Temperatures']*X['Humidity']\n",
    "X['Temperature_sq'] = X['Temperatures']**2\n",
    "X['Humidity_sq'] = X['Humidity']**2\n",
    "X['Population_Density_sq'] = X['Population_Density']**2"
   ]
  },
  {
   "cell_type": "code",
   "execution_count": 8,
   "metadata": {},
   "outputs": [
    {
     "data": {
      "text/html": [
       "<div>\n",
       "<style scoped>\n",
       "    .dataframe tbody tr th:only-of-type {\n",
       "        vertical-align: middle;\n",
       "    }\n",
       "\n",
       "    .dataframe tbody tr th {\n",
       "        vertical-align: top;\n",
       "    }\n",
       "\n",
       "    .dataframe thead th {\n",
       "        text-align: right;\n",
       "    }\n",
       "</style>\n",
       "<table border=\"1\" class=\"dataframe\">\n",
       "  <thead>\n",
       "    <tr style=\"text-align: right;\">\n",
       "      <th></th>\n",
       "      <th>Xo</th>\n",
       "      <th>Date_Code</th>\n",
       "      <th>States_Code</th>\n",
       "      <th>Temperatures</th>\n",
       "      <th>Humidity</th>\n",
       "      <th>Population_Density</th>\n",
       "      <th>Weather</th>\n",
       "      <th>Temperature_sq</th>\n",
       "      <th>Humidity_sq</th>\n",
       "      <th>Population_Density_sq</th>\n",
       "    </tr>\n",
       "  </thead>\n",
       "  <tbody>\n",
       "    <tr>\n",
       "      <th>14612</th>\n",
       "      <td>1</td>\n",
       "      <td>260</td>\n",
       "      <td>53</td>\n",
       "      <td>41.4</td>\n",
       "      <td>71.4</td>\n",
       "      <td>117.3273</td>\n",
       "      <td>2955.96</td>\n",
       "      <td>1713.96</td>\n",
       "      <td>5097.96</td>\n",
       "      <td>13765.695325</td>\n",
       "    </tr>\n",
       "    <tr>\n",
       "      <th>11216</th>\n",
       "      <td>1</td>\n",
       "      <td>200</td>\n",
       "      <td>17</td>\n",
       "      <td>62.5</td>\n",
       "      <td>70.9</td>\n",
       "      <td>228.0246</td>\n",
       "      <td>4431.25</td>\n",
       "      <td>3906.25</td>\n",
       "      <td>5026.81</td>\n",
       "      <td>51995.218205</td>\n",
       "    </tr>\n",
       "    <tr>\n",
       "      <th>4295</th>\n",
       "      <td>1</td>\n",
       "      <td>76</td>\n",
       "      <td>40</td>\n",
       "      <td>73.3</td>\n",
       "      <td>64.0</td>\n",
       "      <td>57.6546</td>\n",
       "      <td>4691.20</td>\n",
       "      <td>5372.89</td>\n",
       "      <td>4096.00</td>\n",
       "      <td>3324.052901</td>\n",
       "    </tr>\n",
       "    <tr>\n",
       "      <th>9852</th>\n",
       "      <td>1</td>\n",
       "      <td>175</td>\n",
       "      <td>53</td>\n",
       "      <td>59.6</td>\n",
       "      <td>71.4</td>\n",
       "      <td>117.3273</td>\n",
       "      <td>4255.44</td>\n",
       "      <td>3552.16</td>\n",
       "      <td>5097.96</td>\n",
       "      <td>13765.695325</td>\n",
       "    </tr>\n",
       "    <tr>\n",
       "      <th>12033</th>\n",
       "      <td>1</td>\n",
       "      <td>214</td>\n",
       "      <td>50</td>\n",
       "      <td>62.9</td>\n",
       "      <td>68.7</td>\n",
       "      <td>218.4404</td>\n",
       "      <td>4321.23</td>\n",
       "      <td>3956.41</td>\n",
       "      <td>4719.69</td>\n",
       "      <td>47716.208352</td>\n",
       "    </tr>\n",
       "  </tbody>\n",
       "</table>\n",
       "</div>"
      ],
      "text/plain": [
       "       Xo  Date_Code  States_Code  Temperatures  Humidity  Population_Density  \\\n",
       "14612   1        260           53          41.4      71.4            117.3273   \n",
       "11216   1        200           17          62.5      70.9            228.0246   \n",
       "4295    1         76           40          73.3      64.0             57.6546   \n",
       "9852    1        175           53          59.6      71.4            117.3273   \n",
       "12033   1        214           50          62.9      68.7            218.4404   \n",
       "\n",
       "       Weather  Temperature_sq  Humidity_sq  Population_Density_sq  \n",
       "14612  2955.96         1713.96      5097.96           13765.695325  \n",
       "11216  4431.25         3906.25      5026.81           51995.218205  \n",
       "4295   4691.20         5372.89      4096.00            3324.052901  \n",
       "9852   4255.44         3552.16      5097.96           13765.695325  \n",
       "12033  4321.23         3956.41      4719.69           47716.208352  "
      ]
     },
     "execution_count": 8,
     "metadata": {},
     "output_type": "execute_result"
    }
   ],
   "source": [
    "X.head()"
   ]
  },
  {
   "cell_type": "markdown",
   "metadata": {},
   "source": [
    "### SCALING OF DATA"
   ]
  },
  {
   "cell_type": "code",
   "execution_count": 9,
   "metadata": {},
   "outputs": [],
   "source": [
    "x = X/(X.max(axis=0) + np.spacing(0))"
   ]
  },
  {
   "cell_type": "markdown",
   "metadata": {},
   "source": [
    "### SPLITTING OF DATA SET INTO TRAIN,TEST & VALID DATA"
   ]
  },
  {
   "cell_type": "code",
   "execution_count": 10,
   "metadata": {},
   "outputs": [],
   "source": [
    "data_train = round(0.6*len(Data))\n",
    "data_valid = round(data_train+0.2*len(Data))"
   ]
  },
  {
   "cell_type": "code",
   "execution_count": 11,
   "metadata": {},
   "outputs": [],
   "source": [
    "train_x = x[:data_train]\n",
    "valid_x = x[data_train:data_valid]\n",
    "test_x = x[data_valid:]"
   ]
  },
  {
   "cell_type": "code",
   "execution_count": 12,
   "metadata": {},
   "outputs": [],
   "source": [
    "train_y = Y[:data_train]\n",
    "valid_y = Y[data_train:data_valid]\n",
    "test_y = Y[data_valid:]"
   ]
  },
  {
   "cell_type": "markdown",
   "metadata": {},
   "source": [
    "### USING THEETAS FROM TRAINING MODEL:"
   ]
  },
  {
   "cell_type": "code",
   "execution_count": 13,
   "metadata": {},
   "outputs": [],
   "source": [
    "theeta = np.array([ 365, -115,   82,  156,  201,    0,  135,  100,  154,    0])\n",
    "#theeta to be imported from training models"
   ]
  },
  {
   "cell_type": "code",
   "execution_count": 14,
   "metadata": {},
   "outputs": [
    {
     "data": {
      "text/plain": [
       "array([ 365, -115,   82,  156,  201,    0,  135,  100,  154,    0])"
      ]
     },
     "execution_count": 14,
     "metadata": {},
     "output_type": "execute_result"
    }
   ],
   "source": [
    "theeta"
   ]
  },
  {
   "cell_type": "markdown",
   "metadata": {},
   "source": [
    "### TAKING INPUT FROM THE USER"
   ]
  },
  {
   "cell_type": "code",
   "execution_count": 15,
   "metadata": {},
   "outputs": [
    {
     "data": {
      "text/html": [
       "<div>\n",
       "<style scoped>\n",
       "    .dataframe tbody tr th:only-of-type {\n",
       "        vertical-align: middle;\n",
       "    }\n",
       "\n",
       "    .dataframe tbody tr th {\n",
       "        vertical-align: top;\n",
       "    }\n",
       "\n",
       "    .dataframe thead th {\n",
       "        text-align: right;\n",
       "    }\n",
       "</style>\n",
       "<table border=\"1\" class=\"dataframe\">\n",
       "  <thead>\n",
       "    <tr style=\"text-align: right;\">\n",
       "      <th></th>\n",
       "      <th>state_code</th>\n",
       "      <th>state_name</th>\n",
       "      <th>population</th>\n",
       "    </tr>\n",
       "  </thead>\n",
       "  <tbody>\n",
       "    <tr>\n",
       "      <th>0</th>\n",
       "      <td>1</td>\n",
       "      <td>Alaska</td>\n",
       "      <td>1.2863</td>\n",
       "    </tr>\n",
       "    <tr>\n",
       "      <th>1</th>\n",
       "      <td>2</td>\n",
       "      <td>Alabama</td>\n",
       "      <td>96.9221</td>\n",
       "    </tr>\n",
       "    <tr>\n",
       "      <th>2</th>\n",
       "      <td>3</td>\n",
       "      <td>Arkansas</td>\n",
       "      <td>58.403</td>\n",
       "    </tr>\n",
       "    <tr>\n",
       "      <th>3</th>\n",
       "      <td>4</td>\n",
       "      <td>American Samoa</td>\n",
       "      <td>716</td>\n",
       "    </tr>\n",
       "    <tr>\n",
       "      <th>4</th>\n",
       "      <td>5</td>\n",
       "      <td>Arizona</td>\n",
       "      <td>64.9549</td>\n",
       "    </tr>\n",
       "    <tr>\n",
       "      <th>5</th>\n",
       "      <td>6</td>\n",
       "      <td>California</td>\n",
       "      <td>256.373</td>\n",
       "    </tr>\n",
       "    <tr>\n",
       "      <th>6</th>\n",
       "      <td>7</td>\n",
       "      <td>Colorado</td>\n",
       "      <td>56.4012</td>\n",
       "    </tr>\n",
       "    <tr>\n",
       "      <th>7</th>\n",
       "      <td>8</td>\n",
       "      <td>Connecticut</td>\n",
       "      <td>735.87</td>\n",
       "    </tr>\n",
       "    <tr>\n",
       "      <th>8</th>\n",
       "      <td>9</td>\n",
       "      <td>District Of Columbia</td>\n",
       "      <td>11535</td>\n",
       "    </tr>\n",
       "    <tr>\n",
       "      <th>9</th>\n",
       "      <td>10</td>\n",
       "      <td>Delaware</td>\n",
       "      <td>504.307</td>\n",
       "    </tr>\n",
       "    <tr>\n",
       "      <th>10</th>\n",
       "      <td>11</td>\n",
       "      <td>Florida</td>\n",
       "      <td>410.126</td>\n",
       "    </tr>\n",
       "    <tr>\n",
       "      <th>11</th>\n",
       "      <td>12</td>\n",
       "      <td>Georgia</td>\n",
       "      <td>186.673</td>\n",
       "    </tr>\n",
       "    <tr>\n",
       "      <th>12</th>\n",
       "      <td>13</td>\n",
       "      <td>Guam</td>\n",
       "      <td>809</td>\n",
       "    </tr>\n",
       "    <tr>\n",
       "      <th>13</th>\n",
       "      <td>14</td>\n",
       "      <td>Hawaii</td>\n",
       "      <td>219.942</td>\n",
       "    </tr>\n",
       "    <tr>\n",
       "      <th>14</th>\n",
       "      <td>15</td>\n",
       "      <td>Iowa</td>\n",
       "      <td>56.9284</td>\n",
       "    </tr>\n",
       "    <tr>\n",
       "      <th>15</th>\n",
       "      <td>16</td>\n",
       "      <td>Idaho</td>\n",
       "      <td>22.097</td>\n",
       "    </tr>\n",
       "    <tr>\n",
       "      <th>16</th>\n",
       "      <td>17</td>\n",
       "      <td>Illinois</td>\n",
       "      <td>228.025</td>\n",
       "    </tr>\n",
       "    <tr>\n",
       "      <th>17</th>\n",
       "      <td>18</td>\n",
       "      <td>Indiana</td>\n",
       "      <td>188.281</td>\n",
       "    </tr>\n",
       "    <tr>\n",
       "      <th>18</th>\n",
       "      <td>19</td>\n",
       "      <td>Kansas</td>\n",
       "      <td>35.5968</td>\n",
       "    </tr>\n",
       "    <tr>\n",
       "      <th>19</th>\n",
       "      <td>20</td>\n",
       "      <td>Kentucky</td>\n",
       "      <td>113.957</td>\n",
       "    </tr>\n",
       "    <tr>\n",
       "      <th>20</th>\n",
       "      <td>21</td>\n",
       "      <td>Louisiana</td>\n",
       "      <td>107.517</td>\n",
       "    </tr>\n",
       "    <tr>\n",
       "      <th>21</th>\n",
       "      <td>22</td>\n",
       "      <td>Massachusetts</td>\n",
       "      <td>894.436</td>\n",
       "    </tr>\n",
       "    <tr>\n",
       "      <th>22</th>\n",
       "      <td>23</td>\n",
       "      <td>Maryland</td>\n",
       "      <td>626.673</td>\n",
       "    </tr>\n",
       "    <tr>\n",
       "      <th>23</th>\n",
       "      <td>24</td>\n",
       "      <td>Maine</td>\n",
       "      <td>43.6336</td>\n",
       "    </tr>\n",
       "    <tr>\n",
       "      <th>24</th>\n",
       "      <td>25</td>\n",
       "      <td>Michigan</td>\n",
       "      <td>177.665</td>\n",
       "    </tr>\n",
       "    <tr>\n",
       "      <th>25</th>\n",
       "      <td>26</td>\n",
       "      <td>Minnesota</td>\n",
       "      <td>71.5922</td>\n",
       "    </tr>\n",
       "    <tr>\n",
       "      <th>26</th>\n",
       "      <td>27</td>\n",
       "      <td>Missouri</td>\n",
       "      <td>89.7453</td>\n",
       "    </tr>\n",
       "    <tr>\n",
       "      <th>27</th>\n",
       "      <td>28</td>\n",
       "      <td>Northern Mariana Islands</td>\n",
       "      <td>324</td>\n",
       "    </tr>\n",
       "    <tr>\n",
       "      <th>28</th>\n",
       "      <td>29</td>\n",
       "      <td>Mississippi</td>\n",
       "      <td>63.7056</td>\n",
       "    </tr>\n",
       "    <tr>\n",
       "      <th>29</th>\n",
       "      <td>30</td>\n",
       "      <td>Montana</td>\n",
       "      <td>7.4668</td>\n",
       "    </tr>\n",
       "    <tr>\n",
       "      <th>30</th>\n",
       "      <td>31</td>\n",
       "      <td>North Carolina</td>\n",
       "      <td>218.271</td>\n",
       "    </tr>\n",
       "    <tr>\n",
       "      <th>31</th>\n",
       "      <td>32</td>\n",
       "      <td>North Dakota</td>\n",
       "      <td>11.0393</td>\n",
       "    </tr>\n",
       "    <tr>\n",
       "      <th>32</th>\n",
       "      <td>33</td>\n",
       "      <td>Nebraska</td>\n",
       "      <td>25.4161</td>\n",
       "    </tr>\n",
       "    <tr>\n",
       "      <th>33</th>\n",
       "      <td>34</td>\n",
       "      <td>New Hampshire</td>\n",
       "      <td>153.161</td>\n",
       "    </tr>\n",
       "    <tr>\n",
       "      <th>34</th>\n",
       "      <td>35</td>\n",
       "      <td>New Jersey</td>\n",
       "      <td>1215.2</td>\n",
       "    </tr>\n",
       "    <tr>\n",
       "      <th>35</th>\n",
       "      <td>36</td>\n",
       "      <td>New Mexico</td>\n",
       "      <td>17.285</td>\n",
       "    </tr>\n",
       "    <tr>\n",
       "      <th>36</th>\n",
       "      <td>37</td>\n",
       "      <td>Nevada</td>\n",
       "      <td>28.5993</td>\n",
       "    </tr>\n",
       "    <tr>\n",
       "      <th>37</th>\n",
       "      <td>38</td>\n",
       "      <td>New York</td>\n",
       "      <td>412.522</td>\n",
       "    </tr>\n",
       "    <tr>\n",
       "      <th>38</th>\n",
       "      <td>39</td>\n",
       "      <td>Ohio</td>\n",
       "      <td>287.504</td>\n",
       "    </tr>\n",
       "    <tr>\n",
       "      <th>39</th>\n",
       "      <td>40</td>\n",
       "      <td>Oklahoma</td>\n",
       "      <td>57.6546</td>\n",
       "    </tr>\n",
       "    <tr>\n",
       "      <th>40</th>\n",
       "      <td>41</td>\n",
       "      <td>Oregon</td>\n",
       "      <td>44.8086</td>\n",
       "    </tr>\n",
       "    <tr>\n",
       "      <th>41</th>\n",
       "      <td>42</td>\n",
       "      <td>Pennsylvania</td>\n",
       "      <td>286.545</td>\n",
       "    </tr>\n",
       "    <tr>\n",
       "      <th>42</th>\n",
       "      <td>43</td>\n",
       "      <td>Palau</td>\n",
       "      <td>876.6</td>\n",
       "    </tr>\n",
       "    <tr>\n",
       "      <th>43</th>\n",
       "      <td>44</td>\n",
       "      <td>Rhode Island</td>\n",
       "      <td>1021.43</td>\n",
       "    </tr>\n",
       "    <tr>\n",
       "      <th>44</th>\n",
       "      <td>45</td>\n",
       "      <td>South Carolina</td>\n",
       "      <td>173.318</td>\n",
       "    </tr>\n",
       "    <tr>\n",
       "      <th>45</th>\n",
       "      <td>46</td>\n",
       "      <td>South Dakota</td>\n",
       "      <td>11.9116</td>\n",
       "    </tr>\n",
       "    <tr>\n",
       "      <th>46</th>\n",
       "      <td>47</td>\n",
       "      <td>Tennessee</td>\n",
       "      <td>167.275</td>\n",
       "    </tr>\n",
       "    <tr>\n",
       "      <th>47</th>\n",
       "      <td>48</td>\n",
       "      <td>Texas</td>\n",
       "      <td>112.82</td>\n",
       "    </tr>\n",
       "    <tr>\n",
       "      <th>48</th>\n",
       "      <td>49</td>\n",
       "      <td>Utah</td>\n",
       "      <td>39.943</td>\n",
       "    </tr>\n",
       "    <tr>\n",
       "      <th>49</th>\n",
       "      <td>50</td>\n",
       "      <td>Virginia</td>\n",
       "      <td>218.44</td>\n",
       "    </tr>\n",
       "    <tr>\n",
       "      <th>50</th>\n",
       "      <td>51</td>\n",
       "      <td>Virgin Islands</td>\n",
       "      <td>773</td>\n",
       "    </tr>\n",
       "    <tr>\n",
       "      <th>51</th>\n",
       "      <td>52</td>\n",
       "      <td>Vermont</td>\n",
       "      <td>68.1416</td>\n",
       "    </tr>\n",
       "    <tr>\n",
       "      <th>52</th>\n",
       "      <td>53</td>\n",
       "      <td>Washington</td>\n",
       "      <td>117.327</td>\n",
       "    </tr>\n",
       "    <tr>\n",
       "      <th>53</th>\n",
       "      <td>54</td>\n",
       "      <td>Wisconsin</td>\n",
       "      <td>108.05</td>\n",
       "    </tr>\n",
       "    <tr>\n",
       "      <th>54</th>\n",
       "      <td>55</td>\n",
       "      <td>West Virginia</td>\n",
       "      <td>73.9691</td>\n",
       "    </tr>\n",
       "    <tr>\n",
       "      <th>55</th>\n",
       "      <td>56</td>\n",
       "      <td>Wyoming</td>\n",
       "      <td>5.84</td>\n",
       "    </tr>\n",
       "  </tbody>\n",
       "</table>\n",
       "</div>"
      ],
      "text/plain": [
       "    state_code                state_name population\n",
       "0            1                    Alaska     1.2863\n",
       "1            2                   Alabama    96.9221\n",
       "2            3                  Arkansas     58.403\n",
       "3            4            American Samoa        716\n",
       "4            5                   Arizona    64.9549\n",
       "5            6                California    256.373\n",
       "6            7                  Colorado    56.4012\n",
       "7            8               Connecticut     735.87\n",
       "8            9      District Of Columbia      11535\n",
       "9           10                  Delaware    504.307\n",
       "10          11                   Florida    410.126\n",
       "11          12                   Georgia    186.673\n",
       "12          13                      Guam        809\n",
       "13          14                    Hawaii    219.942\n",
       "14          15                      Iowa    56.9284\n",
       "15          16                     Idaho     22.097\n",
       "16          17                  Illinois    228.025\n",
       "17          18                   Indiana    188.281\n",
       "18          19                    Kansas    35.5968\n",
       "19          20                  Kentucky    113.957\n",
       "20          21                 Louisiana    107.517\n",
       "21          22             Massachusetts    894.436\n",
       "22          23                  Maryland    626.673\n",
       "23          24                     Maine    43.6336\n",
       "24          25                  Michigan    177.665\n",
       "25          26                 Minnesota    71.5922\n",
       "26          27                  Missouri    89.7453\n",
       "27          28  Northern Mariana Islands       324 \n",
       "28          29               Mississippi    63.7056\n",
       "29          30                   Montana     7.4668\n",
       "30          31            North Carolina    218.271\n",
       "31          32              North Dakota    11.0393\n",
       "32          33                  Nebraska    25.4161\n",
       "33          34             New Hampshire    153.161\n",
       "34          35                New Jersey     1215.2\n",
       "35          36                New Mexico     17.285\n",
       "36          37                    Nevada    28.5993\n",
       "37          38                  New York    412.522\n",
       "38          39                      Ohio    287.504\n",
       "39          40                  Oklahoma    57.6546\n",
       "40          41                    Oregon    44.8086\n",
       "41          42              Pennsylvania    286.545\n",
       "42          43                     Palau      876.6\n",
       "43          44              Rhode Island    1021.43\n",
       "44          45            South Carolina    173.318\n",
       "45          46              South Dakota    11.9116\n",
       "46          47                 Tennessee    167.275\n",
       "47          48                     Texas     112.82\n",
       "48          49                      Utah     39.943\n",
       "49          50                  Virginia     218.44\n",
       "50          51            Virgin Islands       773 \n",
       "51          52                   Vermont    68.1416\n",
       "52          53                Washington    117.327\n",
       "53          54                 Wisconsin     108.05\n",
       "54          55             West Virginia    73.9691\n",
       "55          56                   Wyoming       5.84"
      ]
     },
     "execution_count": 15,
     "metadata": {},
     "output_type": "execute_result"
    }
   ],
   "source": [
    "prediction_df = pd.read_excel('Book2.xlsx')\n",
    "prediction_df"
   ]
  },
  {
   "cell_type": "code",
   "execution_count": 16,
   "metadata": {},
   "outputs": [],
   "source": [
    "def Date_Code(year,month,day):\n",
    "    import datetime\n",
    "    date = datetime.date(2020, 12, 6)\n",
    "    date1 = datetime.date(year,month,day)\n",
    "    date_code = (date - date1)\n",
    "    dayss = date_code.days\n",
    "    print ('Date_code is:'  ,dayss)\n",
    "    return dayss"
   ]
  },
  {
   "cell_type": "code",
   "execution_count": 18,
   "metadata": {},
   "outputs": [
    {
     "name": "stdout",
     "output_type": "stream",
     "text": [
      "Enter a year: 2020\n",
      "Enter a month: 12\n",
      "Enter a day: 30\n",
      "Date_code is: -24\n"
     ]
    },
    {
     "data": {
      "text/plain": [
       "-0.09090909090909091"
      ]
     },
     "execution_count": 18,
     "metadata": {},
     "output_type": "execute_result"
    }
   ],
   "source": [
    "year = int(input('Enter a year: '))\n",
    "month = int(input('Enter a month: '))\n",
    "day = int(input('Enter a day: '))\n",
    "d = Date_Code(year,month,day)\n",
    "d = d/X['Date_Code'].max()\n",
    "d"
   ]
  },
  {
   "cell_type": "code",
   "execution_count": 19,
   "metadata": {},
   "outputs": [
    {
     "name": "stdout",
     "output_type": "stream",
     "text": [
      "Enter value of Temperature: -3\n"
     ]
    },
    {
     "data": {
      "text/plain": [
       "-0.036231884057971016"
      ]
     },
     "execution_count": 19,
     "metadata": {},
     "output_type": "execute_result"
    }
   ],
   "source": [
    "t = float(input('Enter value of Temperature: '))\n",
    "t = t/X['Temperatures'].max()\n",
    "t"
   ]
  },
  {
   "cell_type": "code",
   "execution_count": 20,
   "metadata": {},
   "outputs": [
    {
     "name": "stdout",
     "output_type": "stream",
     "text": [
      "Enter value of Humidity: 90\n"
     ]
    },
    {
     "data": {
      "text/plain": [
       "1.125"
      ]
     },
     "execution_count": 20,
     "metadata": {},
     "output_type": "execute_result"
    }
   ],
   "source": [
    "hum = float(input('Enter value of Humidity: '))\n",
    "hum = hum/X['Humidity'].max()\n",
    "hum"
   ]
  },
  {
   "cell_type": "code",
   "execution_count": 21,
   "metadata": {},
   "outputs": [
    {
     "name": "stdout",
     "output_type": "stream",
     "text": [
      "Enter state Code: 56\n"
     ]
    },
    {
     "data": {
      "text/plain": [
       "1.0"
      ]
     },
     "execution_count": 21,
     "metadata": {},
     "output_type": "execute_result"
    }
   ],
   "source": [
    "s = float(input('Enter state Code: '))\n",
    "s = s/X['States_Code'].max()\n",
    "s"
   ]
  },
  {
   "cell_type": "code",
   "execution_count": 22,
   "metadata": {},
   "outputs": [
    {
     "name": "stdout",
     "output_type": "stream",
     "text": [
      "Enter population Density: 5\n"
     ]
    },
    {
     "data": {
      "text/plain": [
       "0.00043346337234503684"
      ]
     },
     "execution_count": 22,
     "metadata": {},
     "output_type": "execute_result"
    }
   ],
   "source": [
    "p = float(input('Enter population Density: '))\n",
    "p = p/X['Population_Density'].max()\n",
    "p"
   ]
  },
  {
   "cell_type": "code",
   "execution_count": 23,
   "metadata": {},
   "outputs": [
    {
     "data": {
      "text/plain": [
       "([1,\n",
       "  -0.09090909090909091,\n",
       "  1.0,\n",
       "  -0.036231884057971016,\n",
       "  1.125,\n",
       "  0.00043346337234503684,\n",
       "  -0.04076086956521739,\n",
       "  0.0013127494223902543,\n",
       "  0.008264462809917356,\n",
       "  1.8789049516473205e-07],)"
      ]
     },
     "execution_count": 23,
     "metadata": {},
     "output_type": "execute_result"
    }
   ],
   "source": [
    "x_a = [1,d,s,t,hum,p,t*hum,t**2,d**2,p**2],\n",
    "x_a"
   ]
  },
  {
   "cell_type": "markdown",
   "metadata": {},
   "source": [
    "### PREDICTION CODE"
   ]
  },
  {
   "cell_type": "code",
   "execution_count": 24,
   "metadata": {},
   "outputs": [],
   "source": [
    "def prediction(theeta,features):\n",
    "    estimated_count = theeta*features\n",
    "    return estimated_count"
   ]
  },
  {
   "cell_type": "code",
   "execution_count": 25,
   "metadata": {},
   "outputs": [
    {
     "name": "stdout",
     "output_type": "stream",
     "text": [
      "The Estimated count of Covid Cases is:    [673.82865637]\n"
     ]
    }
   ],
   "source": [
    "y_hatt = prediction(theeta,x_a)\n",
    "y_hatt = np.sum(y_hatt,axis=1)\n",
    "print (\"The Estimated count of Covid Cases is:   \" , y_hatt)"
   ]
  },
  {
   "cell_type": "markdown",
   "metadata": {},
   "source": [
    "### ERROR FROM ACTUAL CASES (IF AVAILABLE)"
   ]
  },
  {
   "cell_type": "code",
   "execution_count": 26,
   "metadata": {},
   "outputs": [
    {
     "name": "stdout",
     "output_type": "stream",
     "text": [
      "Enter value of Actual Cases: 2000\n"
     ]
    },
    {
     "data": {
      "text/plain": [
       "2000.0"
      ]
     },
     "execution_count": 26,
     "metadata": {},
     "output_type": "execute_result"
    }
   ],
   "source": [
    "### INPUT ACTUAL CASES IF AVAILABLE\n",
    "actual_y = float(input('Enter value of Actual Cases: '))\n",
    "actual_y"
   ]
  },
  {
   "cell_type": "code",
   "execution_count": 27,
   "metadata": {},
   "outputs": [
    {
     "name": "stdout",
     "output_type": "stream",
     "text": [
      " Rms error is:  1326.1713436348361\n"
     ]
    }
   ],
   "source": [
    "### ERROR ON ACTUAL CASES vs PREDICTED CASES\n",
    "def RMSE(y_hatt, actual_y):\n",
    "    return np.sqrt((y_hatt - actual_y) ** 2).mean()\n",
    "rmse_val = RMSE(np.array(y_hatt), np.array(actual_y))\n",
    "print(f\" Rms error is:  {rmse_val}\")"
   ]
  },
  {
   "cell_type": "code",
   "execution_count": 28,
   "metadata": {},
   "outputs": [
    {
     "name": "stdout",
     "output_type": "stream",
     "text": [
      " Mean Square Error is:  1758730.4326782266\n"
     ]
    }
   ],
   "source": [
    "def MSE(y_hatt, actual_y):\n",
    "    return (1/len(x_a))*np.sum((y_hatt - actual_y) ** 2)\n",
    "mse_val = MSE(np.array(y_hatt), np.array(actual_y))\n",
    "print(f\" Mean Square Error is:  {mse_val}\")"
   ]
  },
  {
   "cell_type": "code",
   "execution_count": null,
   "metadata": {},
   "outputs": [],
   "source": []
  }
 ],
 "metadata": {
  "kernelspec": {
   "display_name": "Python 3",
   "language": "python",
   "name": "python3"
  },
  "language_info": {
   "codemirror_mode": {
    "name": "ipython",
    "version": 3
   },
   "file_extension": ".py",
   "mimetype": "text/x-python",
   "name": "python",
   "nbconvert_exporter": "python",
   "pygments_lexer": "ipython3",
   "version": "3.8.5"
  }
 },
 "nbformat": 4,
 "nbformat_minor": 4
}
