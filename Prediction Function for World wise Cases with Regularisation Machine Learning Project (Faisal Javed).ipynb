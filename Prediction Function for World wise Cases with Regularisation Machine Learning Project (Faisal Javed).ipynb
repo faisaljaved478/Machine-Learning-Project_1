{
 "cells": [
  {
   "cell_type": "markdown",
   "metadata": {},
   "source": [
    "# ANNEX C\n",
    "# PREDICTION CODE FOR WORLD WIDE COVID 19 CASES\n",
    "## SUBMITTED BY: FAISAL JAVED\n",
    "### MACHINE LEARNING PROJECT (MS RIME 2020)"
   ]
  },
  {
   "cell_type": "code",
   "execution_count": 1,
   "metadata": {},
   "outputs": [],
   "source": [
    "import numpy as np \n",
    "import pandas as pd"
   ]
  },
  {
   "cell_type": "markdown",
   "metadata": {},
   "source": [
    "## DATA SET DETAILS \n",
    "### GATHERING & CLEANING"
   ]
  },
  {
   "cell_type": "code",
   "execution_count": 2,
   "metadata": {},
   "outputs": [],
   "source": [
    "#Importing covid data excell file using pandas\n",
    "Data = pd.read_excel(\"Country wise Covid Data.xlsx\")"
   ]
  },
  {
   "cell_type": "code",
   "execution_count": 3,
   "metadata": {},
   "outputs": [
    {
     "data": {
      "text/html": [
       "<div>\n",
       "<style scoped>\n",
       "    .dataframe tbody tr th:only-of-type {\n",
       "        vertical-align: middle;\n",
       "    }\n",
       "\n",
       "    .dataframe tbody tr th {\n",
       "        vertical-align: top;\n",
       "    }\n",
       "\n",
       "    .dataframe thead th {\n",
       "        text-align: right;\n",
       "    }\n",
       "</style>\n",
       "<table border=\"1\" class=\"dataframe\">\n",
       "  <thead>\n",
       "    <tr style=\"text-align: right;\">\n",
       "      <th></th>\n",
       "      <th>CONTINENT</th>\n",
       "      <th>LOCATION</th>\n",
       "      <th>DATE</th>\n",
       "      <th>COUNTRY_SERIES</th>\n",
       "      <th>DATE_CODE</th>\n",
       "      <th>COUNTRY_CODE</th>\n",
       "      <th>POPULATION DENSITY</th>\n",
       "      <th>HUMAN_DEVELOPMENT_INDEX</th>\n",
       "      <th>TEMPERATURES</th>\n",
       "      <th>CASES</th>\n",
       "    </tr>\n",
       "  </thead>\n",
       "  <tbody>\n",
       "    <tr>\n",
       "      <th>0</th>\n",
       "      <td>Asia</td>\n",
       "      <td>Afghanistan</td>\n",
       "      <td>2020-01-23</td>\n",
       "      <td>0</td>\n",
       "      <td>0</td>\n",
       "      <td>0</td>\n",
       "      <td>54.422</td>\n",
       "      <td>0.498</td>\n",
       "      <td>7.0</td>\n",
       "      <td>0</td>\n",
       "    </tr>\n",
       "    <tr>\n",
       "      <th>1</th>\n",
       "      <td>Asia</td>\n",
       "      <td>Afghanistan</td>\n",
       "      <td>2020-01-24</td>\n",
       "      <td>1</td>\n",
       "      <td>1</td>\n",
       "      <td>0</td>\n",
       "      <td>54.422</td>\n",
       "      <td>0.498</td>\n",
       "      <td>7.0</td>\n",
       "      <td>0</td>\n",
       "    </tr>\n",
       "    <tr>\n",
       "      <th>2</th>\n",
       "      <td>Asia</td>\n",
       "      <td>Afghanistan</td>\n",
       "      <td>2020-01-25</td>\n",
       "      <td>2</td>\n",
       "      <td>2</td>\n",
       "      <td>0</td>\n",
       "      <td>54.422</td>\n",
       "      <td>0.498</td>\n",
       "      <td>13.0</td>\n",
       "      <td>0</td>\n",
       "    </tr>\n",
       "    <tr>\n",
       "      <th>3</th>\n",
       "      <td>Asia</td>\n",
       "      <td>Afghanistan</td>\n",
       "      <td>2020-01-26</td>\n",
       "      <td>3</td>\n",
       "      <td>3</td>\n",
       "      <td>0</td>\n",
       "      <td>54.422</td>\n",
       "      <td>0.498</td>\n",
       "      <td>2.0</td>\n",
       "      <td>0</td>\n",
       "    </tr>\n",
       "    <tr>\n",
       "      <th>4</th>\n",
       "      <td>Asia</td>\n",
       "      <td>Afghanistan</td>\n",
       "      <td>2020-01-27</td>\n",
       "      <td>4</td>\n",
       "      <td>4</td>\n",
       "      <td>0</td>\n",
       "      <td>54.422</td>\n",
       "      <td>0.498</td>\n",
       "      <td>6.0</td>\n",
       "      <td>0</td>\n",
       "    </tr>\n",
       "  </tbody>\n",
       "</table>\n",
       "</div>"
      ],
      "text/plain": [
       "  CONTINENT     LOCATION       DATE  COUNTRY_SERIES  DATE_CODE  COUNTRY_CODE  \\\n",
       "0      Asia  Afghanistan 2020-01-23               0          0             0   \n",
       "1      Asia  Afghanistan 2020-01-24               1          1             0   \n",
       "2      Asia  Afghanistan 2020-01-25               2          2             0   \n",
       "3      Asia  Afghanistan 2020-01-26               3          3             0   \n",
       "4      Asia  Afghanistan 2020-01-27               4          4             0   \n",
       "\n",
       "   POPULATION DENSITY  HUMAN_DEVELOPMENT_INDEX  TEMPERATURES  CASES  \n",
       "0              54.422                    0.498           7.0      0  \n",
       "1              54.422                    0.498           7.0      0  \n",
       "2              54.422                    0.498          13.0      0  \n",
       "3              54.422                    0.498           2.0      0  \n",
       "4              54.422                    0.498           6.0      0  "
      ]
     },
     "execution_count": 3,
     "metadata": {},
     "output_type": "execute_result"
    }
   ],
   "source": [
    "#printing data\n",
    "Data.head()"
   ]
  },
  {
   "cell_type": "code",
   "execution_count": 4,
   "metadata": {},
   "outputs": [],
   "source": [
    "#Add a column of ones for the bias term. I chose 1 because if you multiply one with any value, that value does not change.\n",
    "Data = pd.concat([pd.Series(1,index=Data.index,name = '00'),Data],axis = 1)"
   ]
  },
  {
   "cell_type": "code",
   "execution_count": 5,
   "metadata": {},
   "outputs": [],
   "source": [
    "Data = Data.sample(frac=1) #Rearranging DataSet to contain random entries "
   ]
  },
  {
   "cell_type": "code",
   "execution_count": 6,
   "metadata": {},
   "outputs": [],
   "source": [
    "#Assigning our x parameters from data set by dropping extra coloumns\n",
    "X = Data.drop(['LOCATION','CONTINENT','DATE','COUNTRY_SERIES','CASES',],1)"
   ]
  },
  {
   "cell_type": "markdown",
   "metadata": {},
   "source": [
    "### Defining New Features"
   ]
  },
  {
   "cell_type": "code",
   "execution_count": 7,
   "metadata": {},
   "outputs": [],
   "source": [
    "X['HDI']=X['HUMAN_DEVELOPMENT_INDEX']*X['POPULATION DENSITY']\n",
    "X['Temperature_sq'] = X['TEMPERATURES']**2\n",
    "X['Population_Density_sq'] = X['POPULATION DENSITY']**2"
   ]
  },
  {
   "cell_type": "code",
   "execution_count": 8,
   "metadata": {},
   "outputs": [],
   "source": [
    "# defining cases as our output variable in our data set\n",
    "Y = Data['CASES']\n"
   ]
  },
  {
   "cell_type": "markdown",
   "metadata": {},
   "source": [
    "### SCALING OF DATA"
   ]
  },
  {
   "cell_type": "code",
   "execution_count": 9,
   "metadata": {},
   "outputs": [],
   "source": [
    "#np.spacing(0) to avoid division 0/0.\n",
    "x = X / (X.max(axis=0) + np.spacing(0))\n"
   ]
  },
  {
   "cell_type": "markdown",
   "metadata": {},
   "source": [
    "### SPLITTING OF DATA SET INTO TRAIN,TEST & VALID DATA"
   ]
  },
  {
   "cell_type": "code",
   "execution_count": 10,
   "metadata": {},
   "outputs": [],
   "source": [
    "data_train = round(0.6*len(Data))\n",
    "data_valid = round(data_train+0.2*len(Data))"
   ]
  },
  {
   "cell_type": "code",
   "execution_count": 11,
   "metadata": {},
   "outputs": [],
   "source": [
    "train_x = x[:data_train]\n",
    "valid_x = x[data_train:data_valid]\n",
    "test_x = x[data_valid:]"
   ]
  },
  {
   "cell_type": "code",
   "execution_count": 12,
   "metadata": {},
   "outputs": [],
   "source": [
    "train_y = Y[:data_train]\n",
    "valid_y = Y[data_train:data_valid]\n",
    "test_y = Y[data_valid:]"
   ]
  },
  {
   "cell_type": "markdown",
   "metadata": {},
   "source": [
    "### USING THEETAS FROM TRAINING MODEL:"
   ]
  },
  {
   "cell_type": "code",
   "execution_count": 13,
   "metadata": {},
   "outputs": [],
   "source": [
    "theeta = np.array([   0, 1509,  263,    0,  538, -102,    0,    0,    0])\n",
    "#theeta to be imported from training models"
   ]
  },
  {
   "cell_type": "code",
   "execution_count": 14,
   "metadata": {},
   "outputs": [
    {
     "data": {
      "text/plain": [
       "array([   0, 1509,  263,    0,  538, -102,    0,    0,    0])"
      ]
     },
     "execution_count": 14,
     "metadata": {},
     "output_type": "execute_result"
    }
   ],
   "source": [
    "theeta"
   ]
  },
  {
   "cell_type": "code",
   "execution_count": 15,
   "metadata": {},
   "outputs": [],
   "source": [
    "def Date_Code(year,month,day):\n",
    "    import datetime\n",
    "    date = datetime.date(2020, 1, 23)\n",
    "    date1 = datetime.date(year,month,day)\n",
    "    date_code = (date1 - date)\n",
    "    dayss = date_code.days\n",
    "    print ('Date_code is:'  ,dayss)\n",
    "    return dayss"
   ]
  },
  {
   "cell_type": "code",
   "execution_count": 16,
   "metadata": {},
   "outputs": [
    {
     "name": "stdout",
     "output_type": "stream",
     "text": [
      "Enter a year: 2020\n",
      "Enter a month: 12\n",
      "Enter a day: 29\n",
      "Date_code is: 341\n"
     ]
    },
    {
     "data": {
      "text/plain": [
       "1.0689655172413792"
      ]
     },
     "execution_count": 16,
     "metadata": {},
     "output_type": "execute_result"
    }
   ],
   "source": [
    "year = int(input('Enter a year: '))\n",
    "month = int(input('Enter a month: '))\n",
    "day = int(input('Enter a day: '))\n",
    "d = Date_Code(year,month,day)\n",
    "d = d/X['DATE_CODE'].max()\n",
    "d"
   ]
  },
  {
   "cell_type": "code",
   "execution_count": 17,
   "metadata": {},
   "outputs": [
    {
     "name": "stdout",
     "output_type": "stream",
     "text": [
      "Enter value of Temperature: -3\n"
     ]
    },
    {
     "data": {
      "text/plain": [
       "-0.057692307692307696"
      ]
     },
     "execution_count": 17,
     "metadata": {},
     "output_type": "execute_result"
    }
   ],
   "source": [
    "t = float(input('Enter value of Temperature: '))\n",
    "t = t/X['TEMPERATURES'].max()\n",
    "t"
   ]
  },
  {
   "cell_type": "code",
   "execution_count": 18,
   "metadata": {},
   "outputs": [
    {
     "name": "stdout",
     "output_type": "stream",
     "text": [
      "Enter state Code: 1\n"
     ]
    },
    {
     "data": {
      "text/plain": [
       "0.0058823529411764705"
      ]
     },
     "execution_count": 18,
     "metadata": {},
     "output_type": "execute_result"
    }
   ],
   "source": [
    "s = float(input('Enter state Code: '))\n",
    "s = s/X['COUNTRY_CODE'].max()\n",
    "s"
   ]
  },
  {
   "cell_type": "code",
   "execution_count": 19,
   "metadata": {},
   "outputs": [
    {
     "name": "stdout",
     "output_type": "stream",
     "text": [
      "Enter population Density: 54.422\n"
     ]
    },
    {
     "data": {
      "text/plain": [
       "0.002812869879829435"
      ]
     },
     "execution_count": 19,
     "metadata": {},
     "output_type": "execute_result"
    }
   ],
   "source": [
    "p = float(input('Enter population Density: '))\n",
    "p = p/X['POPULATION DENSITY'].max()\n",
    "p"
   ]
  },
  {
   "cell_type": "code",
   "execution_count": 20,
   "metadata": {},
   "outputs": [
    {
     "name": "stdout",
     "output_type": "stream",
     "text": [
      "Enter value of Human Devlopment Index: 0.498\n"
     ]
    },
    {
     "data": {
      "text/plain": [
       "0.5225603357817419"
      ]
     },
     "execution_count": 20,
     "metadata": {},
     "output_type": "execute_result"
    }
   ],
   "source": [
    "hdi = float(input('Enter value of Human Devlopment Index: '))\n",
    "hdi = hdi/X['HUMAN_DEVELOPMENT_INDEX'].max()\n",
    "hdi"
   ]
  },
  {
   "cell_type": "code",
   "execution_count": 21,
   "metadata": {},
   "outputs": [
    {
     "data": {
      "text/plain": [
       "([1,\n",
       "  1.0689655172413792,\n",
       "  0.0058823529411764705,\n",
       "  0.002812869879829435,\n",
       "  0.5225603357817419,\n",
       "  -0.057692307692307696,\n",
       "  0.0014698942289140175,\n",
       "  0.003328402366863906,\n",
       "  7.91223696085166e-06],)"
      ]
     },
     "execution_count": 21,
     "metadata": {},
     "output_type": "execute_result"
    }
   ],
   "source": [
    "x_a = [1,d,s,p,hdi,t,hdi*p,t**2,p**2],\n",
    "x_a"
   ]
  },
  {
   "cell_type": "markdown",
   "metadata": {},
   "source": [
    "### PREDICTION CODE"
   ]
  },
  {
   "cell_type": "code",
   "execution_count": 22,
   "metadata": {},
   "outputs": [],
   "source": [
    "def prediction(theeta,features):\n",
    "    estimated_count = theeta*features\n",
    "    return estimated_count"
   ]
  },
  {
   "cell_type": "code",
   "execution_count": 23,
   "metadata": {},
   "outputs": [
    {
     "name": "stdout",
     "output_type": "stream",
     "text": [
      "The Estimated count of Covid Cases is:    [1901.63810038]\n"
     ]
    }
   ],
   "source": [
    "y_hatt = prediction(theeta,x_a)\n",
    "y_hatt = np.sum(y_hatt,axis=1)\n",
    "print (\"The Estimated count of Covid Cases is:   \" , y_hatt)"
   ]
  },
  {
   "cell_type": "markdown",
   "metadata": {},
   "source": [
    "### ERROR FROM ACTUAL CASES (IF AVAILABLE)"
   ]
  },
  {
   "cell_type": "code",
   "execution_count": 24,
   "metadata": {},
   "outputs": [
    {
     "name": "stdout",
     "output_type": "stream",
     "text": [
      "Enter value of Actual Cases: 241\n"
     ]
    },
    {
     "data": {
      "text/plain": [
       "241.0"
      ]
     },
     "execution_count": 24,
     "metadata": {},
     "output_type": "execute_result"
    }
   ],
   "source": [
    "### INPUT ACTUAL CASES IF AVAILABLE\n",
    "actual_y = float(input('Enter value of Actual Cases: '))\n",
    "actual_y"
   ]
  },
  {
   "cell_type": "code",
   "execution_count": 25,
   "metadata": {},
   "outputs": [
    {
     "name": "stdout",
     "output_type": "stream",
     "text": [
      " Rms error is:  1660.638100375963\n"
     ]
    }
   ],
   "source": [
    "### ERROR ON ACTUAL CASES vs PREDICTED CASES\n",
    "def RMSE(y_hatt, actual_y):\n",
    "    return np.sqrt((y_hatt - actual_y) ** 2).mean()\n",
    "rmse_val = RMSE(np.array(y_hatt), np.array(actual_y))\n",
    "print(f\" Rms error is:  {rmse_val}\")"
   ]
  },
  {
   "cell_type": "code",
   "execution_count": 26,
   "metadata": {},
   "outputs": [
    {
     "name": "stdout",
     "output_type": "stream",
     "text": [
      " Mean Square Error is:  2757718.9004202867\n"
     ]
    }
   ],
   "source": [
    "def MSE(y_hatt, actual_y):\n",
    "    return (1/len(x_a))*np.sum((y_hatt - actual_y) ** 2)\n",
    "mse_val = MSE(np.array(y_hatt), np.array(actual_y))\n",
    "print(f\" Mean Square Error is:  {mse_val}\")"
   ]
  },
  {
   "cell_type": "code",
   "execution_count": null,
   "metadata": {},
   "outputs": [],
   "source": []
  }
 ],
 "metadata": {
  "kernelspec": {
   "display_name": "Python 3",
   "language": "python",
   "name": "python3"
  },
  "language_info": {
   "codemirror_mode": {
    "name": "ipython",
    "version": 3
   },
   "file_extension": ".py",
   "mimetype": "text/x-python",
   "name": "python",
   "nbconvert_exporter": "python",
   "pygments_lexer": "ipython3",
   "version": "3.8.5"
  }
 },
 "nbformat": 4,
 "nbformat_minor": 4
}
